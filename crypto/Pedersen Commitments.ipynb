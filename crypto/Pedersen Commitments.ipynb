{
 "cells": [
  {
   "cell_type": "markdown",
   "metadata": {},
   "source": [
    "# Pedersen Commitments\n",
    "\n",
    "- *Non-Interactive and Information-Theoretic Secure Verifiable Secret Sharing* : https://doi.org/10.1007/3-540-46766-1_9 \n",
    "\n",
    "P.S : I'll trust you'll sci-hub your way to a digital copy.\n",
    "\n",
    "Pedersen Commitments are a way to commit to a secret value to divulge it later, originally it was used to construct a k-n [Verifiable Secret Sharing] scheme, a **VSS** is a scheme where n-people share a secret with each other such as a k-group from n can reconstruct the secret from their shares.\n",
    "\n",
    "While similar to *Shamir's secret sharing*. Pedersen scheme is verifiable, and non-interactive. This is a consequence of  his commitment scheme the one we're going to talk about.\n",
    "Essentially they can each verify the correctness of their shares without interacting with each other.\n",
    "\n",
    "## Cryptographic Commitments\n",
    "\n",
    "A Cryptographic Commitment is a protocol to commit to a message $m$ *secretly* such as a verifier can always verifier the commitment later on.\n",
    "\n",
    "The protocol boils down to the following :\n",
    "\n",
    "1. Alice picks or is provided a message $m$.\n",
    "2. Alice picks a *random* $r$ and computs $c = C(m,r)$\n",
    "3. Alice publishes $c$\n",
    "4. At some point in the future Alice publishes $(m,r)$\n",
    "5. Bob who wishes to verify Alice's commitment computes $C(m,r)$ and checks equality with the public value $c$\n",
    "\n",
    "The protocol holds if $c$ divulges nothing about $m$ (Shannon secrecy), and the probability of finding $(m,r)$ and $(m',r')$ such as $m \\neq m'$ and $C(m,r) = C(m',r')$ is **negligible**.\n",
    "\n",
    "## Pedersen Commitment\n",
    "\n",
    "A Pedersen Commitment uses a group $(G,.)$ of large order $q$ where the DLP is hard.\n",
    "Two random generators $g$ and $h$ are choosen, a random secret $r$ is uniformly picked from $\\mathbb{Z}_q$ .\n",
    "\n",
    "The commitment is :\n",
    "\n",
    "- **$C(m,r) = g^m . h^r$**\n",
    "\n",
    "## Protocol Parameters\n",
    "\n",
    "Some references for the ECC based parameters :\n",
    "\n",
    "- [Pedersen Commitments over Edwards Curves](http://orbilu.uni.lu/bitstream/10993/33705/1/MSPN2017.pdf)\n",
    "- [Investigation into Confidential Transaction](https://github.com/AdamISZ/ConfidentialTransactionsDoc/blob/master/essayonCT.pdf)\n",
    "\n",
    "Essentially Elliptic Curves computations are fast, smaller (256-bit vs 2048-bit at the same security level (160 bit I think).\n",
    "\n",
    "## A Demo\n",
    "\n",
    "Our demo we'll follow the below steps to generate parameters and make some commitments :D\n",
    "\n",
    "1. Pick a large prime $q$ and $p$ a large safe prime such as $p = 2q + 1$\n",
    "2. Let $h$ a randomly picked generator of cyclic group of order $q$.\n",
    "3. Let $\\alpha$ a randomly picked element of $\\mathbb{Z}_q$ and compute $g = h^\\alpha$\n",
    "4. Let $r$ be our randomly picked secreal seal value from **$\\mathbb{Z}_p$**\n",
    "5. Let $x$ be our commited value we compute $C(x,r) = h^r . g^x$\n",
    "6. A Verifier can later verify this given the commitment bases $(h,g)$ and $(x,r)$.\n",
    "\n",
    "One neat consequence here is that $C(x_1,r_1) . C(x_2,r_2) = C(x_1+x_2,r_1+r_2)$ , the proof is left\n",
    "as an exercice to the reader ;).\n"
   ]
  },
  {
   "cell_type": "code",
   "execution_count": 96,
   "metadata": {},
   "outputs": [],
   "source": [
    "def gengen(p):\n",
    "    # given a prime p and the prime factorisation of p-1\n",
    "    # this algorithm outputs a generator of a Zp\n",
    "    q = prime_divisors(p-1)[-1] # get the largest prime divisor of p-1\n",
    "    h = randint(1,p-1)\n",
    "    y = Integer((p-1)/q)\n",
    "    g = power_mod(h,y,p)\n",
    "    if g == 1 :\n",
    "        g = power_mod(h,Integer((p-1)//q),p)\n",
    "    return g    \n",
    "def paramgen(l,t) :\n",
    "    # lt are the security parameters\n",
    "    q = random_prime(2^l,lbound=2^(l-1))\n",
    "    p = 2*q + 1\n",
    "    h = gengen(q)\n",
    "    alpha = randint(1,q-1)\n",
    "    g = power_mod(h,alpha,p)\n",
    "    return (h,g,p,q)\n",
    "\n",
    "def mul_mod(a,b,p):\n",
    "    return mod(a*b,p)\n",
    "        \n",
    "def commit(x,r,h,g,p,q):\n",
    "    return mod(power_mod(h,r,p)*power_mod(g,x,p),p)\n",
    "\n",
    "def open_commitment(c,x,r,h,g,p,q):\n",
    "    return c == commit(x,r,h,g,p,q)"
   ]
  },
  {
   "cell_type": "code",
   "execution_count": 97,
   "metadata": {},
   "outputs": [],
   "source": [
    "(h,g,p,q) = paramgen(256,128)"
   ]
  },
  {
   "cell_type": "code",
   "execution_count": 98,
   "metadata": {},
   "outputs": [],
   "source": [
    "r1 = randint(1,p-1)\n",
    "r2 = randint(1,p-1)\n",
    "x1 = 5\n",
    "x2 = 10\n",
    "c1 = commit(x1,r1,h,g,p,q)\n",
    "c2 = commit(x2,r2,h,g,p,q)\n"
   ]
  },
  {
   "cell_type": "code",
   "execution_count": 99,
   "metadata": {},
   "outputs": [],
   "source": [
    "assert(open_commitment(c1,x1,r1,h,g,p,q) == True)\n",
    "assert(open_commitment(c2,x2,r2,h,g,p,q) == True)"
   ]
  },
  {
   "cell_type": "code",
   "execution_count": 101,
   "metadata": {},
   "outputs": [],
   "source": [
    "assert(mul_mod(c1,c2,p) == commit(x1+x2,r1+r2,h,g,p,q))"
   ]
  },
  {
   "cell_type": "markdown",
   "metadata": {},
   "source": [
    "- **REFERENCES** :\n",
    "    - http://cryptonite.info/files/HMBC.pdf\n",
    "    - http://orbilu.uni.lu/bitstream/10993/33705/1/MSPN2017.pdf    \n",
    "    - https://github.com/AdamISZ/ConfidentialTransactionsDoc/blob/master/essayonCT.pdf"
   ]
  },
  {
   "cell_type": "markdown",
   "metadata": {},
   "source": [
    "## NOTE\n",
    "\n",
    "Doing this for ECC is a matter of translation, operations on curves are defined as addition (P a point on a curve can be added to itself k times that's kP *on an elliptic curves, a public key is basically a random scalar k (Private key) multiplied by a point on the curve*.\n",
    "\n",
    "I'll write"
   ]
  }
 ],
 "metadata": {
  "kernelspec": {
   "display_name": "SageMath 8.1",
   "language": "",
   "name": "sagemath"
  },
  "language_info": {
   "codemirror_mode": {
    "name": "ipython",
    "version": 2
   },
   "file_extension": ".py",
   "mimetype": "text/x-python",
   "name": "python",
   "nbconvert_exporter": "python",
   "pygments_lexer": "ipython2",
   "version": "2.7.15+"
  }
 },
 "nbformat": 4,
 "nbformat_minor": 2
}
