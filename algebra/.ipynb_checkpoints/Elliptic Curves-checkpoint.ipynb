{
 "cells": [
  {
   "cell_type": "code",
   "execution_count": 3,
   "metadata": {},
   "outputs": [],
   "source": [
    "F = FiniteField(29)"
   ]
  },
  {
   "cell_type": "code",
   "execution_count": 2,
   "metadata": {},
   "outputs": [
    {
     "data": {
      "text/plain": [
       "11"
      ]
     },
     "execution_count": 2,
     "metadata": {},
     "output_type": "execute_result"
    }
   ],
   "source": [
    "F.random_element()"
   ]
  },
  {
   "cell_type": "code",
   "execution_count": 4,
   "metadata": {},
   "outputs": [
    {
     "data": {
      "text/plain": [
       "29"
      ]
     },
     "execution_count": 4,
     "metadata": {},
     "output_type": "execute_result"
    }
   ],
   "source": [
    "# F is a finite field over p=29 it's characteristic is 29 (by definition Fp has characteristic p)\n",
    "F.characteristic()\n"
   ]
  },
  {
   "cell_type": "markdown",
   "metadata": {},
   "source": [
    "Let $E(F_{29}) : y^2 = x^3 + ax + b$ this is the simplified Weirstrass equation set $a=4$ and $b=20$ \n",
    "\n",
    "A weirstrass curve is written in a more complex form but there are several isomorphisms that allow a *change of variables* to happen and simplify the curve's expression.\n",
    "\n",
    "The transformation used to get $E$ is $\\phi:(x,y) \\mapsto (\\frac{x-3a_{1}^2 - 12a_{2}}{36},\\frac{y-3a_{1}x}{216}-\\frac{a^{3}_{1} + 4a_{1}a_{2}-12a_{3}}{24})$.\n",
    "$\\phi$ works for all finite fields of characteristic $> 2,3$."
   ]
  },
  {
   "cell_type": "code",
   "execution_count": 5,
   "metadata": {},
   "outputs": [],
   "source": [
    "E = EllipticCurve(F,[4,20])"
   ]
  },
  {
   "cell_type": "code",
   "execution_count": 6,
   "metadata": {},
   "outputs": [
    {
     "name": "stdout",
     "output_type": "stream",
     "text": [
      "[(0 : 1 : 0), (0 : 7 : 1), (0 : 22 : 1), (1 : 5 : 1), (1 : 24 : 1), (2 : 6 : 1), (2 : 23 : 1), (3 : 1 : 1), (3 : 28 : 1), (4 : 10 : 1), (4 : 19 : 1), (5 : 7 : 1), (5 : 22 : 1), (6 : 12 : 1), (6 : 17 : 1), (8 : 10 : 1), (8 : 19 : 1), (10 : 4 : 1), (10 : 25 : 1), (13 : 6 : 1), (13 : 23 : 1), (14 : 6 : 1), (14 : 23 : 1), (15 : 2 : 1), (15 : 27 : 1), (16 : 2 : 1), (16 : 27 : 1), (17 : 10 : 1), (17 : 19 : 1), (19 : 13 : 1), (19 : 16 : 1), (20 : 3 : 1), (20 : 26 : 1), (24 : 7 : 1), (24 : 22 : 1), (27 : 2 : 1), (27 : 27 : 1)]\n"
     ]
    }
   ],
   "source": [
    "print(E.points())\n",
    "# the third coordinate denotes whether E is the point at infinity"
   ]
  },
  {
   "cell_type": "code",
   "execution_count": 8,
   "metadata": {},
   "outputs": [],
   "source": [
    "P = E.point((5,22))\n",
    "Q = E.point((16,27))"
   ]
  },
  {
   "cell_type": "code",
   "execution_count": 9,
   "metadata": {},
   "outputs": [
    {
     "data": {
      "text/plain": [
       "(13 : 6 : 1)"
      ]
     },
     "execution_count": 9,
     "metadata": {},
     "output_type": "execute_result"
    }
   ],
   "source": [
    "P+Q"
   ]
  },
  {
   "cell_type": "code",
   "execution_count": 76,
   "metadata": {},
   "outputs": [
    {
     "data": {
      "text/plain": [
       "(z^3, z^3 + 1)"
      ]
     },
     "execution_count": 76,
     "metadata": {},
     "output_type": "execute_result"
    }
   ],
   "source": [
    "# Non supersingular curves over binary fields\n",
    "K = GF(2^4,'z')\n",
    "a = K([0,0,0,1]) # a = z^3\n",
    "b = K([1,0,0,1]) # b = z^3+1\n",
    "a,b"
   ]
  },
  {
   "cell_type": "code",
   "execution_count": 77,
   "metadata": {},
   "outputs": [],
   "source": [
    "E = EllipticCurve(K,[1,a,0,0,b]) # y^2 + xy = x^3 + ax + b"
   ]
  },
  {
   "cell_type": "code",
   "execution_count": 78,
   "metadata": {},
   "outputs": [
    {
     "data": {
      "text/plain": [
       "Elliptic Curve defined by y^2 + x*y = x^3 + z^3*x^2 + (z^3+1) over Finite Field in z of size 2^4"
      ]
     },
     "execution_count": 78,
     "metadata": {},
     "output_type": "execute_result"
    }
   ],
   "source": [
    "E"
   ]
  },
  {
   "cell_type": "code",
   "execution_count": 79,
   "metadata": {},
   "outputs": [
    {
     "data": {
      "text/plain": [
       "[(0 : 1 : 0), (0 : z^3 + z + 1 : 1), (1 : 0 : 1), (1 : 1 : 1), (z : z^3 + z^2 + 1 : 1), (z : z^3 + z^2 + z + 1 : 1), (z + 1 : z^3 + z^2 : 1), (z + 1 : z^3 + z^2 + z + 1 : 1), (z^2 + 1 : 0 : 1), (z^2 + 1 : z^2 + 1 : 1), (z^2 + z + 1 : z^3 + z + 1 : 1), (z^2 + z + 1 : z^3 + z^2 : 1), (z^3 : 1 : 1), (z^3 : z^3 + 1 : 1), (z^3 + 1 : z^2 + z : 1), (z^3 + 1 : z^3 + z^2 + z + 1 : 1), (z^3 + z + 1 : z : 1), (z^3 + z + 1 : z^3 + 1 : 1), (z^3 + z^2 : 0 : 1), (z^3 + z^2 : z^3 + z^2 : 1), (z^3 + z^2 + z + 1 : z^2 : 1), (z^3 + z^2 + z + 1 : z^3 + z + 1 : 1)]"
      ]
     },
     "execution_count": 79,
     "metadata": {},
     "output_type": "execute_result"
    }
   ],
   "source": [
    "E.points()"
   ]
  },
  {
   "cell_type": "code",
   "execution_count": 95,
   "metadata": {},
   "outputs": [],
   "source": [
    "P = E.point((K([0,1,0,0]),K([1,1,1,1])))\n",
    "Q = E.point((K([0,0,1,1]),K([0,0,1,1])))\n",
    "R = P + Q\n"
   ]
  },
  {
   "cell_type": "code",
   "execution_count": 105,
   "metadata": {},
   "outputs": [],
   "source": [
    "G = E.gens()[0]"
   ]
  },
  {
   "cell_type": "code",
   "execution_count": 106,
   "metadata": {},
   "outputs": [
    {
     "name": "stdout",
     "output_type": "stream",
     "text": [
      "(0, 0)\n",
      "(1, z)\n",
      "(2, z^2)\n",
      "(3, z^3)\n",
      "(4, z + 1)\n",
      "(5, z^2 + z)\n",
      "(6, z^3 + z^2)\n",
      "(7, z^3 + z + 1)\n",
      "(8, z^2 + 1)\n",
      "(9, z^3 + z)\n",
      "(10, z^2 + z + 1)\n",
      "(11, z^3 + z^2 + z)\n",
      "(12, z^3 + z^2 + z + 1)\n",
      "(13, z^3 + z^2 + 1)\n",
      "(14, z^3 + 1)\n",
      "(15, 1)\n"
     ]
    }
   ],
   "source": [
    "for i in enumerate(K):\n",
    "    print(i)"
   ]
  },
  {
   "cell_type": "code",
   "execution_count": 144,
   "metadata": {},
   "outputs": [
    {
     "name": "stdout",
     "output_type": "stream",
     "text": [
      "0\n",
      "z\n",
      "z^2\n",
      "z^3\n",
      "z + 1\n",
      "z^2 + z\n",
      "z^3 + z^2\n",
      "z^3 + z + 1\n",
      "z^2 + 1\n",
      "z^3 + z\n",
      "z^2 + z + 1\n",
      "z^3 + z^2 + z\n",
      "z^3 + z^2 + z + 1\n",
      "z^3 + z^2 + 1\n",
      "z^3 + 1\n",
      "1\n"
     ]
    }
   ],
   "source": [
    "for idx,s in enumerate(K):\n",
    "    print(s)"
   ]
  },
  {
   "cell_type": "code",
   "execution_count": 125,
   "metadata": {},
   "outputs": [],
   "source": [
    "pts = [ G * x for x in range(G.order()) ]"
   ]
  },
  {
   "cell_type": "code",
   "execution_count": 149,
   "metadata": {},
   "outputs": [
    {
     "data": {
      "text/plain": [
       "z^3 + 1"
      ]
     },
     "execution_count": 149,
     "metadata": {},
     "output_type": "execute_result"
    }
   ],
   "source": [
    "r = K([1,0,0,1])\n",
    "r"
   ]
  },
  {
   "cell_type": "code",
   "execution_count": 150,
   "metadata": {},
   "outputs": [
    {
     "data": {
      "text/plain": [
       "(z + 1 : z^3 + z^2 : 1)"
      ]
     },
     "execution_count": 150,
     "metadata": {},
     "output_type": "execute_result"
    }
   ],
   "source": [
    "G"
   ]
  },
  {
   "cell_type": "code",
   "execution_count": null,
   "metadata": {},
   "outputs": [],
   "source": []
  },
  {
   "cell_type": "code",
   "execution_count": null,
   "metadata": {},
   "outputs": [],
   "source": []
  }
 ],
 "metadata": {
  "kernelspec": {
   "display_name": "SageMath 8.1",
   "language": "",
   "name": "sagemath"
  },
  "language_info": {
   "codemirror_mode": {
    "name": "ipython",
    "version": 2
   },
   "file_extension": ".py",
   "mimetype": "text/x-python",
   "name": "python",
   "nbconvert_exporter": "python",
   "pygments_lexer": "ipython2",
   "version": "2.7.15+"
  }
 },
 "nbformat": 4,
 "nbformat_minor": 2
}
